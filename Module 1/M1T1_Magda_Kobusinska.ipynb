{
 "cells": [
  {
   "cell_type": "markdown",
   "id": "5edb1af5-1add-437d-bcc3-c177297244a5",
   "metadata": {},
   "source": [
    "# Data Analytics: Understanding Customers\n",
    "## Task 1 - Investigating customer buying patterns\n",
    "**Author: Magdalena Kobusińska**  \n",
    "\n",
    "The task was to explore the customer transaction data from the Blackwell Electronics company from recent online and in-store sales, to get an insight about customer purchasing behavior. Questions that should be of particular interest:\n",
    "\n",
    "- Do customers in different regions spend more per transaction? Which regions spend the most/least?  \n",
    "- Is there a relationship between number of items purchased and amount spent?"
   ]
  },
  {
   "cell_type": "code",
   "execution_count": 1,
   "id": "3ed55789-7fc7-4d63-a9ed-625f6811b04b",
   "metadata": {},
   "outputs": [],
   "source": [
    "import pandas as pd\n",
    "import matplotlib.pyplot as plt\n",
    "import seaborn as sns\n",
    "import numpy as np"
   ]
  },
  {
   "cell_type": "markdown",
   "id": "194fb8b4-2dde-4627-9001-7ff6ac2e74a6",
   "metadata": {},
   "source": [
    "The data file contains a dataset with customer transactions; it includes some information about the customer who made the transaction, as well as the amount of the transaction, and how many items were purchased.\n",
    "\n",
    "In-store Column Mapping:  \n",
    "- 1: in-store purchases  \n",
    "- 0: online purchases\n",
    "\n",
    "Region Column Mapping:  \n",
    "- 1: North  \n",
    "- 2: South  \n",
    "- 3: East  \n",
    "- 4: West"
   ]
  },
  {
   "cell_type": "code",
   "execution_count": 2,
   "id": "cdb333cc-bc41-461a-b1a7-b816f347c740",
   "metadata": {},
   "outputs": [],
   "source": [
    "data = pd.read_csv('Demographic_Data.csv')"
   ]
  },
  {
   "cell_type": "code",
   "execution_count": 26,
   "id": "2f002809-a15e-4e40-9dac-afb599a53f30",
   "metadata": {},
   "outputs": [
    {
     "data": {
      "text/html": [
       "<div>\n",
       "<style scoped>\n",
       "    .dataframe tbody tr th:only-of-type {\n",
       "        vertical-align: middle;\n",
       "    }\n",
       "\n",
       "    .dataframe tbody tr th {\n",
       "        vertical-align: top;\n",
       "    }\n",
       "\n",
       "    .dataframe thead th {\n",
       "        text-align: right;\n",
       "    }\n",
       "</style>\n",
       "<table border=\"1\" class=\"dataframe\">\n",
       "  <thead>\n",
       "    <tr style=\"text-align: right;\">\n",
       "      <th></th>\n",
       "      <th>in-store</th>\n",
       "      <th>age</th>\n",
       "      <th>items</th>\n",
       "      <th>amount</th>\n",
       "      <th>region</th>\n",
       "    </tr>\n",
       "  </thead>\n",
       "  <tbody>\n",
       "    <tr>\n",
       "      <th>0</th>\n",
       "      <td>0</td>\n",
       "      <td>37</td>\n",
       "      <td>4</td>\n",
       "      <td>281.03</td>\n",
       "      <td>2</td>\n",
       "    </tr>\n",
       "    <tr>\n",
       "      <th>1</th>\n",
       "      <td>0</td>\n",
       "      <td>35</td>\n",
       "      <td>2</td>\n",
       "      <td>219.51</td>\n",
       "      <td>2</td>\n",
       "    </tr>\n",
       "    <tr>\n",
       "      <th>2</th>\n",
       "      <td>1</td>\n",
       "      <td>45</td>\n",
       "      <td>3</td>\n",
       "      <td>1525.70</td>\n",
       "      <td>4</td>\n",
       "    </tr>\n",
       "    <tr>\n",
       "      <th>3</th>\n",
       "      <td>1</td>\n",
       "      <td>46</td>\n",
       "      <td>3</td>\n",
       "      <td>715.25</td>\n",
       "      <td>3</td>\n",
       "    </tr>\n",
       "    <tr>\n",
       "      <th>4</th>\n",
       "      <td>1</td>\n",
       "      <td>33</td>\n",
       "      <td>4</td>\n",
       "      <td>1937.50</td>\n",
       "      <td>1</td>\n",
       "    </tr>\n",
       "  </tbody>\n",
       "</table>\n",
       "</div>"
      ],
      "text/plain": [
       "   in-store  age  items   amount  region\n",
       "0         0   37      4   281.03       2\n",
       "1         0   35      2   219.51       2\n",
       "2         1   45      3  1525.70       4\n",
       "3         1   46      3   715.25       3\n",
       "4         1   33      4  1937.50       1"
      ]
     },
     "execution_count": 26,
     "metadata": {},
     "output_type": "execute_result"
    }
   ],
   "source": [
    "data.head()"
   ]
  },
  {
   "cell_type": "markdown",
   "id": "d9d47eb2-23c6-4f4f-80e2-a6580b255146",
   "metadata": {},
   "source": [
    "### Data cleaning  "
   ]
  },
  {
   "cell_type": "code",
   "execution_count": 27,
   "id": "5eb5360a-d04d-45be-ad22-5356541d966f",
   "metadata": {},
   "outputs": [
    {
     "data": {
      "text/html": [
       "<div>\n",
       "<style scoped>\n",
       "    .dataframe tbody tr th:only-of-type {\n",
       "        vertical-align: middle;\n",
       "    }\n",
       "\n",
       "    .dataframe tbody tr th {\n",
       "        vertical-align: top;\n",
       "    }\n",
       "\n",
       "    .dataframe thead th {\n",
       "        text-align: right;\n",
       "    }\n",
       "</style>\n",
       "<table border=\"1\" class=\"dataframe\">\n",
       "  <thead>\n",
       "    <tr style=\"text-align: right;\">\n",
       "      <th></th>\n",
       "      <th>in-store</th>\n",
       "      <th>age</th>\n",
       "      <th>items</th>\n",
       "      <th>amount</th>\n",
       "      <th>region</th>\n",
       "    </tr>\n",
       "  </thead>\n",
       "  <tbody>\n",
       "    <tr>\n",
       "      <th>17858</th>\n",
       "      <td>0</td>\n",
       "      <td>76</td>\n",
       "      <td>6</td>\n",
       "      <td>283.61</td>\n",
       "      <td>2</td>\n",
       "    </tr>\n",
       "    <tr>\n",
       "      <th>26112</th>\n",
       "      <td>0</td>\n",
       "      <td>67</td>\n",
       "      <td>4</td>\n",
       "      <td>320.41</td>\n",
       "      <td>2</td>\n",
       "    </tr>\n",
       "    <tr>\n",
       "      <th>29343</th>\n",
       "      <td>1</td>\n",
       "      <td>23</td>\n",
       "      <td>2</td>\n",
       "      <td>1019.50</td>\n",
       "      <td>4</td>\n",
       "    </tr>\n",
       "    <tr>\n",
       "      <th>33834</th>\n",
       "      <td>1</td>\n",
       "      <td>38</td>\n",
       "      <td>3</td>\n",
       "      <td>1993.80</td>\n",
       "      <td>1</td>\n",
       "    </tr>\n",
       "    <tr>\n",
       "      <th>34214</th>\n",
       "      <td>1</td>\n",
       "      <td>31</td>\n",
       "      <td>5</td>\n",
       "      <td>1488.10</td>\n",
       "      <td>4</td>\n",
       "    </tr>\n",
       "    <tr>\n",
       "      <th>34706</th>\n",
       "      <td>0</td>\n",
       "      <td>39</td>\n",
       "      <td>5</td>\n",
       "      <td>1268.00</td>\n",
       "      <td>4</td>\n",
       "    </tr>\n",
       "    <tr>\n",
       "      <th>35971</th>\n",
       "      <td>0</td>\n",
       "      <td>38</td>\n",
       "      <td>7</td>\n",
       "      <td>391.51</td>\n",
       "      <td>2</td>\n",
       "    </tr>\n",
       "    <tr>\n",
       "      <th>43958</th>\n",
       "      <td>1</td>\n",
       "      <td>22</td>\n",
       "      <td>1</td>\n",
       "      <td>1303.20</td>\n",
       "      <td>4</td>\n",
       "    </tr>\n",
       "    <tr>\n",
       "      <th>44308</th>\n",
       "      <td>1</td>\n",
       "      <td>26</td>\n",
       "      <td>5</td>\n",
       "      <td>1495.70</td>\n",
       "      <td>4</td>\n",
       "    </tr>\n",
       "    <tr>\n",
       "      <th>45164</th>\n",
       "      <td>0</td>\n",
       "      <td>79</td>\n",
       "      <td>6</td>\n",
       "      <td>342.28</td>\n",
       "      <td>2</td>\n",
       "    </tr>\n",
       "    <tr>\n",
       "      <th>47414</th>\n",
       "      <td>0</td>\n",
       "      <td>27</td>\n",
       "      <td>6</td>\n",
       "      <td>1555.10</td>\n",
       "      <td>4</td>\n",
       "    </tr>\n",
       "    <tr>\n",
       "      <th>51600</th>\n",
       "      <td>0</td>\n",
       "      <td>56</td>\n",
       "      <td>2</td>\n",
       "      <td>1941.70</td>\n",
       "      <td>4</td>\n",
       "    </tr>\n",
       "    <tr>\n",
       "      <th>52013</th>\n",
       "      <td>1</td>\n",
       "      <td>50</td>\n",
       "      <td>5</td>\n",
       "      <td>1889.40</td>\n",
       "      <td>1</td>\n",
       "    </tr>\n",
       "    <tr>\n",
       "      <th>53652</th>\n",
       "      <td>0</td>\n",
       "      <td>29</td>\n",
       "      <td>2</td>\n",
       "      <td>144.43</td>\n",
       "      <td>2</td>\n",
       "    </tr>\n",
       "    <tr>\n",
       "      <th>58454</th>\n",
       "      <td>0</td>\n",
       "      <td>76</td>\n",
       "      <td>1</td>\n",
       "      <td>259.44</td>\n",
       "      <td>2</td>\n",
       "    </tr>\n",
       "    <tr>\n",
       "      <th>59539</th>\n",
       "      <td>1</td>\n",
       "      <td>49</td>\n",
       "      <td>2</td>\n",
       "      <td>1162.00</td>\n",
       "      <td>4</td>\n",
       "    </tr>\n",
       "    <tr>\n",
       "      <th>59859</th>\n",
       "      <td>0</td>\n",
       "      <td>30</td>\n",
       "      <td>7</td>\n",
       "      <td>2535.10</td>\n",
       "      <td>4</td>\n",
       "    </tr>\n",
       "    <tr>\n",
       "      <th>61439</th>\n",
       "      <td>1</td>\n",
       "      <td>32</td>\n",
       "      <td>4</td>\n",
       "      <td>1106.10</td>\n",
       "      <td>4</td>\n",
       "    </tr>\n",
       "    <tr>\n",
       "      <th>63970</th>\n",
       "      <td>1</td>\n",
       "      <td>42</td>\n",
       "      <td>5</td>\n",
       "      <td>1731.10</td>\n",
       "      <td>4</td>\n",
       "    </tr>\n",
       "    <tr>\n",
       "      <th>75506</th>\n",
       "      <td>0</td>\n",
       "      <td>44</td>\n",
       "      <td>2</td>\n",
       "      <td>1756.70</td>\n",
       "      <td>4</td>\n",
       "    </tr>\n",
       "    <tr>\n",
       "      <th>78688</th>\n",
       "      <td>1</td>\n",
       "      <td>40</td>\n",
       "      <td>2</td>\n",
       "      <td>1080.60</td>\n",
       "      <td>1</td>\n",
       "    </tr>\n",
       "  </tbody>\n",
       "</table>\n",
       "</div>"
      ],
      "text/plain": [
       "       in-store  age  items   amount  region\n",
       "17858         0   76      6   283.61       2\n",
       "26112         0   67      4   320.41       2\n",
       "29343         1   23      2  1019.50       4\n",
       "33834         1   38      3  1993.80       1\n",
       "34214         1   31      5  1488.10       4\n",
       "34706         0   39      5  1268.00       4\n",
       "35971         0   38      7   391.51       2\n",
       "43958         1   22      1  1303.20       4\n",
       "44308         1   26      5  1495.70       4\n",
       "45164         0   79      6   342.28       2\n",
       "47414         0   27      6  1555.10       4\n",
       "51600         0   56      2  1941.70       4\n",
       "52013         1   50      5  1889.40       1\n",
       "53652         0   29      2   144.43       2\n",
       "58454         0   76      1   259.44       2\n",
       "59539         1   49      2  1162.00       4\n",
       "59859         0   30      7  2535.10       4\n",
       "61439         1   32      4  1106.10       4\n",
       "63970         1   42      5  1731.10       4\n",
       "75506         0   44      2  1756.70       4\n",
       "78688         1   40      2  1080.60       1"
      ]
     },
     "execution_count": 27,
     "metadata": {},
     "output_type": "execute_result"
    }
   ],
   "source": [
    "duplicated = data[data.duplicated()]\n",
    "duplicated"
   ]
  },
  {
   "cell_type": "markdown",
   "id": "00905e1a-18f7-4720-932e-b17d683692a7",
   "metadata": {},
   "source": [
    "Besides the fact we have not enough data specification to decide if the same data are the duplicates or just a strange coincidence where the people in the same region, of the same age buys the same amount of items of the same value, I decided to delete them. Therefore, I optained 21 deleted records, what leaves me with 79979 data records."
   ]
  },
  {
   "cell_type": "code",
   "execution_count": 28,
   "id": "669aa28b-79e0-4c5b-9615-90fc297f7823",
   "metadata": {},
   "outputs": [],
   "source": [
    "data = data.drop_duplicates()"
   ]
  },
  {
   "cell_type": "code",
   "execution_count": 29,
   "id": "aaffdc93-b2f7-48bb-bfbb-f2db2ec4b929",
   "metadata": {},
   "outputs": [],
   "source": [
    "# Why it doesn't work for further cells?? \n",
    "region_name = {1:\"North\", 2:\"South\", 3:\"East\", 4:\"West\"}\n",
    "# data.replace({\"region\": region_name})\n",
    "data = data.replace({\"region\": region_name})"
   ]
  },
  {
   "cell_type": "markdown",
   "id": "d0d01e26-0d7d-49c8-b65d-3477f8aa3afb",
   "metadata": {},
   "source": [
    "### Basic information describtion"
   ]
  },
  {
   "cell_type": "code",
   "execution_count": 30,
   "id": "97940dd1-416a-4f67-8646-a109325baceb",
   "metadata": {},
   "outputs": [
    {
     "name": "stdout",
     "output_type": "stream",
     "text": [
      "<class 'pandas.core.frame.DataFrame'>\n",
      "Int64Index: 79979 entries, 0 to 79999\n",
      "Data columns (total 5 columns):\n",
      " #   Column    Non-Null Count  Dtype  \n",
      "---  ------    --------------  -----  \n",
      " 0   in-store  79979 non-null  int64  \n",
      " 1   age       79979 non-null  int64  \n",
      " 2   items     79979 non-null  int64  \n",
      " 3   amount    79979 non-null  float64\n",
      " 4   region    79979 non-null  object \n",
      "dtypes: float64(1), int64(3), object(1)\n",
      "memory usage: 3.7+ MB\n"
     ]
    }
   ],
   "source": [
    "data.info()"
   ]
  },
  {
   "cell_type": "code",
   "execution_count": 31,
   "id": "99c9751f-10a7-4e4f-8b54-5dfc4e0ca930",
   "metadata": {},
   "outputs": [
    {
     "data": {
      "text/html": [
       "<div>\n",
       "<style scoped>\n",
       "    .dataframe tbody tr th:only-of-type {\n",
       "        vertical-align: middle;\n",
       "    }\n",
       "\n",
       "    .dataframe tbody tr th {\n",
       "        vertical-align: top;\n",
       "    }\n",
       "\n",
       "    .dataframe thead th {\n",
       "        text-align: right;\n",
       "    }\n",
       "</style>\n",
       "<table border=\"1\" class=\"dataframe\">\n",
       "  <thead>\n",
       "    <tr style=\"text-align: right;\">\n",
       "      <th></th>\n",
       "      <th>in-store</th>\n",
       "      <th>age</th>\n",
       "      <th>items</th>\n",
       "      <th>amount</th>\n",
       "    </tr>\n",
       "  </thead>\n",
       "  <tbody>\n",
       "    <tr>\n",
       "      <th>count</th>\n",
       "      <td>79979.000000</td>\n",
       "      <td>79979.000000</td>\n",
       "      <td>79979.000000</td>\n",
       "      <td>79979.000000</td>\n",
       "    </tr>\n",
       "    <tr>\n",
       "      <th>mean</th>\n",
       "      <td>0.500006</td>\n",
       "      <td>45.758512</td>\n",
       "      <td>4.505133</td>\n",
       "      <td>835.825727</td>\n",
       "    </tr>\n",
       "    <tr>\n",
       "      <th>std</th>\n",
       "      <td>0.500003</td>\n",
       "      <td>15.715158</td>\n",
       "      <td>2.061250</td>\n",
       "      <td>721.263650</td>\n",
       "    </tr>\n",
       "    <tr>\n",
       "      <th>min</th>\n",
       "      <td>0.000000</td>\n",
       "      <td>18.000000</td>\n",
       "      <td>1.000000</td>\n",
       "      <td>5.004700</td>\n",
       "    </tr>\n",
       "    <tr>\n",
       "      <th>25%</th>\n",
       "      <td>0.000000</td>\n",
       "      <td>33.000000</td>\n",
       "      <td>3.000000</td>\n",
       "      <td>285.120000</td>\n",
       "    </tr>\n",
       "    <tr>\n",
       "      <th>50%</th>\n",
       "      <td>1.000000</td>\n",
       "      <td>45.000000</td>\n",
       "      <td>4.000000</td>\n",
       "      <td>582.140000</td>\n",
       "    </tr>\n",
       "    <tr>\n",
       "      <th>75%</th>\n",
       "      <td>1.000000</td>\n",
       "      <td>56.000000</td>\n",
       "      <td>6.000000</td>\n",
       "      <td>1233.400000</td>\n",
       "    </tr>\n",
       "    <tr>\n",
       "      <th>max</th>\n",
       "      <td>1.000000</td>\n",
       "      <td>85.000000</td>\n",
       "      <td>8.000000</td>\n",
       "      <td>3000.000000</td>\n",
       "    </tr>\n",
       "  </tbody>\n",
       "</table>\n",
       "</div>"
      ],
      "text/plain": [
       "           in-store           age         items        amount\n",
       "count  79979.000000  79979.000000  79979.000000  79979.000000\n",
       "mean       0.500006     45.758512      4.505133    835.825727\n",
       "std        0.500003     15.715158      2.061250    721.263650\n",
       "min        0.000000     18.000000      1.000000      5.004700\n",
       "25%        0.000000     33.000000      3.000000    285.120000\n",
       "50%        1.000000     45.000000      4.000000    582.140000\n",
       "75%        1.000000     56.000000      6.000000   1233.400000\n",
       "max        1.000000     85.000000      8.000000   3000.000000"
      ]
     },
     "execution_count": 31,
     "metadata": {},
     "output_type": "execute_result"
    }
   ],
   "source": [
    "data.describe()"
   ]
  },
  {
   "cell_type": "markdown",
   "id": "2548c517-b533-4934-9062-d30e65b3d4c6",
   "metadata": {},
   "source": [
    "First, I wanted to see the basic information about the data. Worth noting facts:\n",
    "- mean age of the customer: 46\n",
    "- number of transactions: 79979\n",
    "- on average sold 4.5 items per transaction, number of items sold by one transaction: 1-8.\n",
    "- minimum transaction was on \\\\$5 and maximum was on \\\\$3000\n",
    "- most customers bought things for \\\\$582"
   ]
  },
  {
   "cell_type": "markdown",
   "id": "9971ca71-c5a3-4639-95b2-d1715440a0d6",
   "metadata": {},
   "source": [
    "### Amount of transactions in each region"
   ]
  },
  {
   "cell_type": "code",
   "execution_count": 32,
   "id": "aa7510ba-1b3e-45b5-afd3-09c0f31d0317",
   "metadata": {},
   "outputs": [
    {
     "data": {
      "text/plain": [
       "region\n",
       "East     18000\n",
       "North    15997\n",
       "South    19994\n",
       "West     25988\n",
       "Name: region, dtype: int64"
      ]
     },
     "execution_count": 32,
     "metadata": {},
     "output_type": "execute_result"
    }
   ],
   "source": [
    "data.groupby('region')['region'].count()"
   ]
  },
  {
   "cell_type": "code",
   "execution_count": 33,
   "id": "b96115b2-2dfb-494e-b089-bb96a3e54f7b",
   "metadata": {},
   "outputs": [
    {
     "data": {
      "text/plain": [
       "<seaborn.axisgrid.FacetGrid at 0x29a0bbd5f70>"
      ]
     },
     "execution_count": 33,
     "metadata": {},
     "output_type": "execute_result"
    },
    {
     "data": {
      "image/png": "[encoded data removed]",
      "text/plain": [
       "<Figure size 630x360 with 1 Axes>"
      ]
     },
     "metadata": {
      "needs_background": "light"
     },
     "output_type": "display_data"
    }
   ],
   "source": [
    "plt_1 = sns.catplot(x='region', data=data, kind='count', aspect=1.75, palette=\"viridis\")\n",
    "plt_1.set_xlabels('Region')\n",
    "plt_1.set_ylabels('Number of transactions')\n",
    "plt_1.fig.suptitle('Number of transactions per region')\n",
    "plt_1.set_xticklabels([\"North\", \"South\", \"East\", \"West\"])"
   ]
  },
  {
   "cell_type": "markdown",
   "id": "e0ee39f9-5586-49f9-9595-a9c187ebffd1",
   "metadata": {},
   "source": [
    "It can be seen that the most transactions was done in the West and the least - in the North."
   ]
  },
  {
   "cell_type": "code",
   "execution_count": 34,
   "id": "4a4a718a-80f2-4808-a3c0-42a0757fe86b",
   "metadata": {},
   "outputs": [
    {
     "data": {
      "text/plain": [
       "<seaborn.axisgrid.FacetGrid at 0x29a0bdae940>"
      ]
     },
     "execution_count": 34,
     "metadata": {},
     "output_type": "execute_result"
    },
    {
     "data": {
      "image/png": "[encoded data removed]",
      "text/plain": [
       "<Figure size 672.375x360 with 1 Axes>"
      ]
     },
     "metadata": {
      "needs_background": "light"
     },
     "output_type": "display_data"
    }
   ],
   "source": [
    "data.groupby(['region', 'items'])['region'].count()\n",
    "plt_2 = sns.catplot(x='region', data=data, hue='items', kind='count', aspect=1.75, palette=\"viridis\")\n",
    "plt_2.set_xlabels('Region')\n",
    "plt_2.set_ylabels('Number of transactions with exact number of items bought')\n",
    "plt_2.fig.suptitle('Number of transactions with exact number of items per region')\n",
    "plt_2.set_xticklabels([\"North\", \"South\", \"East\", \"West\"])"
   ]
  },
  {
   "cell_type": "markdown",
   "id": "04131270-7de3-4327-ac08-ce8015521d90",
   "metadata": {},
   "source": [
    "What's interesting, transactions where the customer bought just one or as many as 8 items were rare. It can be seen that on average the customers bought 4 items."
   ]
  },
  {
   "cell_type": "markdown",
   "id": "f87d3b7d-19c7-4386-b44a-a38ccf427aff",
   "metadata": {},
   "source": [
    "### Amount of money spent by region"
   ]
  },
  {
   "cell_type": "code",
   "execution_count": 35,
   "id": "045983cf-6f67-4b76-8707-ec821542bd89",
   "metadata": {},
   "outputs": [
    {
     "data": {
      "text/html": [
       "<style  type=\"text/css\" >\n",
       "</style><table id=\"T_76df6_\" ><thead>    <tr>        <th class=\"blank level0\" ></th>        <th class=\"col_heading level0 col0\" >amount</th>    </tr>    <tr>        <th class=\"index_name level0\" >region</th>        <th class=\"blank\" ></th>    </tr></thead><tbody>\n",
       "                <tr>\n",
       "                        <th id=\"T_76df6_level0_row0\" class=\"row_heading level0 row0\" >East</th>\n",
       "                        <td id=\"T_76df6_row0_col0\" class=\"data row0 col0\" >$16,523,453</td>\n",
       "            </tr>\n",
       "            <tr>\n",
       "                        <th id=\"T_76df6_level0_row1\" class=\"row_heading level0 row1\" >North</th>\n",
       "                        <td id=\"T_76df6_row1_col0\" class=\"data row1 col0\" >$11,917,620</td>\n",
       "            </tr>\n",
       "            <tr>\n",
       "                        <th id=\"T_76df6_level0_row2\" class=\"row_heading level0 row2\" >South</th>\n",
       "                        <td id=\"T_76df6_row2_col0\" class=\"data row2 col0\" >$5,040,442</td>\n",
       "            </tr>\n",
       "            <tr>\n",
       "                        <th id=\"T_76df6_level0_row3\" class=\"row_heading level0 row3\" >West</th>\n",
       "                        <td id=\"T_76df6_row3_col0\" class=\"data row3 col0\" >$33,366,990</td>\n",
       "            </tr>\n",
       "    </tbody></table>"
      ],
      "text/plain": [
       "<pandas.io.formats.style.Styler at 0x29a0bd626a0>"
      ]
     },
     "execution_count": 35,
     "metadata": {},
     "output_type": "execute_result"
    }
   ],
   "source": [
    "pivot_sum_amount_per_region = data.pivot_table('amount','region', aggfunc=np.sum, margins=False)\n",
    "pivot_sum_amount_per_region.style.format('${0:,.0f}')"
   ]
  },
  {
   "cell_type": "code",
   "execution_count": 36,
   "id": "e237241a-7fe0-4a07-9477-4128a8529ba1",
   "metadata": {},
   "outputs": [
    {
     "data": {
      "text/plain": [
       "Text(0, 0.5, 'Total amount spent by customers')"
      ]
     },
     "execution_count": 36,
     "metadata": {},
     "output_type": "execute_result"
    },
    {
     "data": {
      "image/png": "[encoded data removed]",
      "text/plain": [
       "<Figure size 1152x648 with 1 Axes>"
      ]
     },
     "metadata": {
      "needs_background": "light"
     },
     "output_type": "display_data"
    }
   ],
   "source": [
    "plt3 = pivot_sum_amount_per_region.plot.bar(figsize=(16, 9), title='Total amount of money spend by regions', cmap=\"viridis\").yaxis.set_major_formatter('${x:,.0f}')\n",
    "plt.gca().set_xticklabels([\"North\", \"South\", \"East\", \"West\"])\n",
    "plt.ylabel('Total amount spent by customers')"
   ]
  },
  {
   "cell_type": "markdown",
   "id": "37d4a34f-5f90-417b-aff2-795a781aab9d",
   "metadata": {},
   "source": [
    "The comparison between the graph with the number of transaction per region and the one that shows money spent by regions are not consistant. It can be seen that althought (as it could be predictable) on the West the customers both spent the most money and did the greatest amount of transactions, on the South, where the number of transaction was on the second place right after the West, the amount of money spent by customers was the lowest from all the regions. Therefore, to get the better view, I decided to do one more plot."
   ]
  },
  {
   "cell_type": "code",
   "execution_count": 37,
   "id": "de3c9624-76cd-457f-a567-3a34a76422a4",
   "metadata": {},
   "outputs": [
    {
     "data": {
      "text/plain": [
       "[Text(0, 0, 'North'),\n",
       " Text(1, 0, 'South'),\n",
       " Text(2, 0, 'East'),\n",
       " Text(3, 0, 'West')]"
      ]
     },
     "execution_count": 37,
     "metadata": {},
     "output_type": "execute_result"
    },
    {
     "data": {
      "image/png": "[encoded data removed]",
      "text/plain": [
       "<Figure size 432x288 with 1 Axes>"
      ]
     },
     "metadata": {
      "needs_background": "light"
     },
     "output_type": "display_data"
    }
   ],
   "source": [
    "plt_4 = sns.violinplot(x=\"region\", y=\"amount\", data=data, palette=\"viridis\")\n",
    "plt_4.set(title='Amount spent in each region ($)', xlabel='region', ylabel='amount spent ($)')\n",
    "plt_4.set_xticklabels([\"North\", \"South\", \"East\", \"West\"])"
   ]
  },
  {
   "cell_type": "markdown",
   "id": "36b6a983-f088-4928-bd42-8875707a5ecc",
   "metadata": {},
   "source": [
    "By viewing the plot above, it can be seen that in the West, the transactions were the most evenly distributed in terms of the amount of money spent. In the North and in the East the lower value transactions have prevailed, but there have also been some where a larger amount has been spent. In the South lower value transactions have dominated."
   ]
  },
  {
   "cell_type": "code",
   "execution_count": 38,
   "id": "a861045c-af31-44ec-b042-89750e0781a5",
   "metadata": {},
   "outputs": [
    {
     "data": {
      "text/html": [
       "<div>\n",
       "<style scoped>\n",
       "    .dataframe tbody tr th:only-of-type {\n",
       "        vertical-align: middle;\n",
       "    }\n",
       "\n",
       "    .dataframe tbody tr th {\n",
       "        vertical-align: top;\n",
       "    }\n",
       "\n",
       "    .dataframe thead th {\n",
       "        text-align: right;\n",
       "    }\n",
       "</style>\n",
       "<table border=\"1\" class=\"dataframe\">\n",
       "  <thead>\n",
       "    <tr style=\"text-align: right;\">\n",
       "      <th>items</th>\n",
       "      <th>1</th>\n",
       "      <th>2</th>\n",
       "      <th>3</th>\n",
       "      <th>4</th>\n",
       "      <th>5</th>\n",
       "      <th>6</th>\n",
       "      <th>7</th>\n",
       "      <th>8</th>\n",
       "    </tr>\n",
       "    <tr>\n",
       "      <th>region</th>\n",
       "      <th></th>\n",
       "      <th></th>\n",
       "      <th></th>\n",
       "      <th></th>\n",
       "      <th></th>\n",
       "      <th></th>\n",
       "      <th></th>\n",
       "      <th></th>\n",
       "    </tr>\n",
       "  </thead>\n",
       "  <tbody>\n",
       "    <tr>\n",
       "      <th>East</th>\n",
       "      <td>894.239667</td>\n",
       "      <td>931.767999</td>\n",
       "      <td>916.421853</td>\n",
       "      <td>935.009959</td>\n",
       "      <td>911.578511</td>\n",
       "      <td>903.035816</td>\n",
       "      <td>910.417209</td>\n",
       "      <td>937.914856</td>\n",
       "    </tr>\n",
       "    <tr>\n",
       "      <th>North</th>\n",
       "      <td>751.450329</td>\n",
       "      <td>766.924871</td>\n",
       "      <td>743.810869</td>\n",
       "      <td>727.300536</td>\n",
       "      <td>745.737906</td>\n",
       "      <td>740.033224</td>\n",
       "      <td>737.791975</td>\n",
       "      <td>757.540969</td>\n",
       "    </tr>\n",
       "    <tr>\n",
       "      <th>South</th>\n",
       "      <td>257.587746</td>\n",
       "      <td>250.012124</td>\n",
       "      <td>252.182018</td>\n",
       "      <td>249.626762</td>\n",
       "      <td>252.399170</td>\n",
       "      <td>254.961019</td>\n",
       "      <td>251.735042</td>\n",
       "      <td>249.882689</td>\n",
       "    </tr>\n",
       "    <tr>\n",
       "      <th>West</th>\n",
       "      <td>1255.778428</td>\n",
       "      <td>1297.199268</td>\n",
       "      <td>1272.761661</td>\n",
       "      <td>1280.247027</td>\n",
       "      <td>1277.747343</td>\n",
       "      <td>1296.386021</td>\n",
       "      <td>1280.238420</td>\n",
       "      <td>1310.646915</td>\n",
       "    </tr>\n",
       "  </tbody>\n",
       "</table>\n",
       "</div>"
      ],
      "text/plain": [
       "items             1            2            3            4            5  \\\n",
       "region                                                                    \n",
       "East     894.239667   931.767999   916.421853   935.009959   911.578511   \n",
       "North    751.450329   766.924871   743.810869   727.300536   745.737906   \n",
       "South    257.587746   250.012124   252.182018   249.626762   252.399170   \n",
       "West    1255.778428  1297.199268  1272.761661  1280.247027  1277.747343   \n",
       "\n",
       "items             6            7            8  \n",
       "region                                         \n",
       "East     903.035816   910.417209   937.914856  \n",
       "North    740.033224   737.791975   757.540969  \n",
       "South    254.961019   251.735042   249.882689  \n",
       "West    1296.386021  1280.238420  1310.646915  "
      ]
     },
     "execution_count": 38,
     "metadata": {},
     "output_type": "execute_result"
    }
   ],
   "source": [
    "# Mean amount spent for exact number of items in certain region\n",
    "pivot_mean_amount_items_number = data.pivot_table('amount', 'region', 'items', aggfunc=np.mean, margins=False, margins_name = 'All')\n",
    "pivot_mean_amount_items_number"
   ]
  },
  {
   "cell_type": "code",
   "execution_count": 39,
   "id": "28861503-a9f0-40ce-a397-82e1cdf38ec3",
   "metadata": {},
   "outputs": [
    {
     "data": {
      "text/plain": [
       "Text(0, 0.5, 'Amount spent')"
      ]
     },
     "execution_count": 39,
     "metadata": {},
     "output_type": "execute_result"
    },
    {
     "data": {
      "image/png": "[encoded data removed]",
      "text/plain": [
       "<Figure size 1152x648 with 1 Axes>"
      ]
     },
     "metadata": {
      "needs_background": "light"
     },
     "output_type": "display_data"
    }
   ],
   "source": [
    "plt_5 = pivot_mean_amount_items_number.plot(kind=\"bar\",figsize=(16, 9), title='Amount of money spent on exact numbers of items', cmap=\"viridis\").yaxis.set_major_formatter('${x:,.0f}')\n",
    "plt.gca().set_xticklabels([\"North\", \"South\", \"East\", \"West\"])\n",
    "plt.ylabel('Amount spent')"
   ]
  },
  {
   "cell_type": "markdown",
   "id": "a7645ab1-1d35-41fb-a759-c8d74d6685f7",
   "metadata": {},
   "source": [
    "What may be considered as something unexpected - the number of items bought did not have any connection with the amount of money spend by the customer.\n",
    "The most money was spent in the West, ahe least - in the South"
   ]
  },
  {
   "cell_type": "markdown",
   "id": "b47949ad-1002-441f-a522-f480ad23411f",
   "metadata": {},
   "source": [
    "### In-store/online by regions"
   ]
  },
  {
   "cell_type": "code",
   "execution_count": 40,
   "id": "1e5a505a-abe7-42f0-a3b0-80a26dfb92ed",
   "metadata": {},
   "outputs": [
    {
     "data": {
      "text/html": [
       "<style  type=\"text/css\" >\n",
       "</style><table id=\"T_bdf60_\" ><thead>    <tr>        <th class=\"index_name level0\" >in-store</th>        <th class=\"col_heading level0 col0\" >0</th>        <th class=\"col_heading level0 col1\" >1</th>        <th class=\"col_heading level0 col2\" >All</th>    </tr>    <tr>        <th class=\"index_name level0\" >region</th>        <th class=\"blank\" ></th>        <th class=\"blank\" ></th>        <th class=\"blank\" ></th>    </tr></thead><tbody>\n",
       "                <tr>\n",
       "                        <th id=\"T_bdf60_level0_row0\" class=\"row_heading level0 row0\" >East</th>\n",
       "                        <td id=\"T_bdf60_row0_col0\" class=\"data row0 col0\" >$10,793,540</td>\n",
       "                        <td id=\"T_bdf60_row0_col1\" class=\"data row0 col1\" >$5,729,913</td>\n",
       "                        <td id=\"T_bdf60_row0_col2\" class=\"data row0 col2\" >$16,523,453</td>\n",
       "            </tr>\n",
       "            <tr>\n",
       "                        <th id=\"T_bdf60_level0_row1\" class=\"row_heading level0 row1\" >North</th>\n",
       "                        <td id=\"T_bdf60_row1_col0\" class=\"data row1 col0\" >$nan</td>\n",
       "                        <td id=\"T_bdf60_row1_col1\" class=\"data row1 col1\" >$11,917,620</td>\n",
       "                        <td id=\"T_bdf60_row1_col2\" class=\"data row1 col2\" >$11,917,620</td>\n",
       "            </tr>\n",
       "            <tr>\n",
       "                        <th id=\"T_bdf60_level0_row2\" class=\"row_heading level0 row2\" >South</th>\n",
       "                        <td id=\"T_bdf60_row2_col0\" class=\"data row2 col0\" >$5,040,442</td>\n",
       "                        <td id=\"T_bdf60_row2_col1\" class=\"data row2 col1\" >$nan</td>\n",
       "                        <td id=\"T_bdf60_row2_col2\" class=\"data row2 col2\" >$5,040,442</td>\n",
       "            </tr>\n",
       "            <tr>\n",
       "                        <th id=\"T_bdf60_level0_row3\" class=\"row_heading level0 row3\" >West</th>\n",
       "                        <td id=\"T_bdf60_row3_col0\" class=\"data row3 col0\" >$20,058,007</td>\n",
       "                        <td id=\"T_bdf60_row3_col1\" class=\"data row3 col1\" >$13,308,983</td>\n",
       "                        <td id=\"T_bdf60_row3_col2\" class=\"data row3 col2\" >$33,366,990</td>\n",
       "            </tr>\n",
       "            <tr>\n",
       "                        <th id=\"T_bdf60_level0_row4\" class=\"row_heading level0 row4\" >All</th>\n",
       "                        <td id=\"T_bdf60_row4_col0\" class=\"data row4 col0\" >$35,891,990</td>\n",
       "                        <td id=\"T_bdf60_row4_col1\" class=\"data row4 col1\" >$30,956,516</td>\n",
       "                        <td id=\"T_bdf60_row4_col2\" class=\"data row4 col2\" >$66,848,506</td>\n",
       "            </tr>\n",
       "    </tbody></table>"
      ],
      "text/plain": [
       "<pandas.io.formats.style.Styler at 0x29a0bbcaac0>"
      ]
     },
     "execution_count": 40,
     "metadata": {},
     "output_type": "execute_result"
    }
   ],
   "source": [
    "pivot_money = pd.pivot_table(data,index='region',columns='in-store', values='amount',aggfunc='sum', margins = True)\n",
    "pivot_money.style.format('${0:,.0f}')"
   ]
  },
  {
   "cell_type": "code",
   "execution_count": 41,
   "id": "5ce7ac2a-c7a6-4648-9acb-5c45d4f35fa1",
   "metadata": {},
   "outputs": [
    {
     "data": {
      "text/plain": [
       "[Text(0, 0, 'North'),\n",
       " Text(1, 0, 'South'),\n",
       " Text(2, 0, 'East'),\n",
       " Text(3, 0, 'West')]"
      ]
     },
     "execution_count": 41,
     "metadata": {},
     "output_type": "execute_result"
    },
    {
     "data": {
      "image/png": "[encoded data removed]",
      "text/plain": [
       "<Figure size 432x288 with 1 Axes>"
      ]
     },
     "metadata": {
      "needs_background": "light"
     },
     "output_type": "display_data"
    }
   ],
   "source": [
    "plt_6 = sns.barplot(x=\"region\", y=\"amount\", hue=\"in-store\", data=data, palette=\"viridis\")\n",
    "plt_6.set(title='Amount of items bought in each region in-store/online', xlabel='region', ylabel='Amount of items')\n",
    "plt_6.set_xticklabels([\"North\", \"South\", \"East\", \"West\"])"
   ]
  },
  {
   "cell_type": "markdown",
   "id": "efab5252-c6ec-417f-bb59-67e14666ca85",
   "metadata": {},
   "source": [
    "In the North, there was none transactions done online, which may indicate that the stores there are very well equipped and with nice service - the customers prefere to go and see the desired items and ask about the specifation before buying them. On the contrary, in the South, there was no transactions done in-store, what indicated that the region has none or vary few retail shops in the area. Both in the East and in the West online transactions were the dominant ones."
   ]
  },
  {
   "cell_type": "markdown",
   "id": "6a541737-f60c-4b66-a8e8-941a5b85383b",
   "metadata": {},
   "source": [
    "### Age vs region"
   ]
  },
  {
   "cell_type": "code",
   "execution_count": 42,
   "id": "3e332824-8eb0-4cc7-95c6-bcb6dd98e420",
   "metadata": {},
   "outputs": [
    {
     "name": "stderr",
     "output_type": "stream",
     "text": [
      "c:\\users\\magda\\appdata\\local\\programs\\python\\python39\\lib\\site-packages\\seaborn\\axisgrid.py:132: UserWarning: You have mixed positional and keyword arguments, some input may be discarded.\n",
      "  figlegend = self.fig.legend(handles, labels, **kwargs)\n"
     ]
    },
    {
     "data": {
      "text/plain": [
       "<seaborn.axisgrid.FacetGrid at 0x29a13d10ca0>"
      ]
     },
     "execution_count": 42,
     "metadata": {},
     "output_type": "execute_result"
    },
    {
     "data": {
      "image/png": "[encoded data removed]",
      "text/plain": [
       "<Figure size 928.875x216 with 1 Axes>"
      ]
     },
     "metadata": {
      "needs_background": "light"
     },
     "output_type": "display_data"
    }
   ],
   "source": [
    "plt_7 = sns.FacetGrid(data, hue='region', aspect=4, palette=\"viridis\")\n",
    "plt_7.map(sns.kdeplot, 'age')\n",
    "oldest = data['age'].max()\n",
    "plt_7.set(title='Distribution of customers age by region', ylabel = 'The part of all the customers')\n",
    "plt_7.add_legend(labels=[\"North\", \"South\", \"East\", \"West\"])"
   ]
  },
  {
   "cell_type": "markdown",
   "id": "3b606e44-7aad-4a5a-8b60-b1a45cdb4f39",
   "metadata": {},
   "source": [
    "It can be seen that most elder people bought any items in the South, the youngest people were usually from the West."
   ]
  },
  {
   "cell_type": "markdown",
   "id": "37931908-cafc-4e6c-afa8-0134555b88ad",
   "metadata": {},
   "source": [
    "### Age vs. in-store"
   ]
  },
  {
   "cell_type": "code",
   "execution_count": 43,
   "id": "0ae7c3ad-30f3-4b12-8264-8ab5ff0decef",
   "metadata": {},
   "outputs": [
    {
     "data": {
      "text/plain": [
       "<seaborn.axisgrid.FacetGrid at 0x29a13d6a940>"
      ]
     },
     "execution_count": 43,
     "metadata": {},
     "output_type": "execute_result"
    },
    {
     "data": {
      "image/png": "[encoded data removed]",
      "text/plain": [
       "<Figure size 1126x216 with 1 Axes>"
      ]
     },
     "metadata": {
      "needs_background": "light"
     },
     "output_type": "display_data"
    }
   ],
   "source": [
    "plt_8 = sns.FacetGrid(data, hue='in-store', aspect=5, palette=\"viridis\")\n",
    "plt_8.map(sns.kdeplot, 'age', shade=True)\n",
    "oldest = data['age'].max()\n",
    "plt_8.set(title='Distribution of customers age by type of shopping', ylabel = 'The part of all the customers')\n",
    "plt_8.add_legend()"
   ]
  },
  {
   "cell_type": "markdown",
   "id": "54a3d91e-2bc9-41f4-bd2a-7fb76b049af0",
   "metadata": {},
   "source": [
    "It can be seen that the younger people decided to make more transactions in-store, whereas the elder ones prefered online option. It may be connected with the the possible lack of the on-site shops in the South, as what's where the most elder customers come from."
   ]
  },
  {
   "cell_type": "code",
   "execution_count": 44,
   "id": "88427be7-4fad-4a5b-8bd8-d1133f23f68c",
   "metadata": {},
   "outputs": [
    {
     "data": {
      "text/html": [
       "<div>\n",
       "<style scoped>\n",
       "    .dataframe tbody tr th:only-of-type {\n",
       "        vertical-align: middle;\n",
       "    }\n",
       "\n",
       "    .dataframe tbody tr th {\n",
       "        vertical-align: top;\n",
       "    }\n",
       "\n",
       "    .dataframe thead th {\n",
       "        text-align: right;\n",
       "    }\n",
       "</style>\n",
       "<table border=\"1\" class=\"dataframe\">\n",
       "  <thead>\n",
       "    <tr style=\"text-align: right;\">\n",
       "      <th></th>\n",
       "      <th>in-store</th>\n",
       "      <th>age</th>\n",
       "      <th>items</th>\n",
       "      <th>amount</th>\n",
       "      <th>region</th>\n",
       "      <th>age_sections</th>\n",
       "    </tr>\n",
       "  </thead>\n",
       "  <tbody>\n",
       "    <tr>\n",
       "      <th>0</th>\n",
       "      <td>0</td>\n",
       "      <td>37</td>\n",
       "      <td>4</td>\n",
       "      <td>281.03</td>\n",
       "      <td>South</td>\n",
       "      <td>age 36-55</td>\n",
       "    </tr>\n",
       "    <tr>\n",
       "      <th>1</th>\n",
       "      <td>0</td>\n",
       "      <td>35</td>\n",
       "      <td>2</td>\n",
       "      <td>219.51</td>\n",
       "      <td>South</td>\n",
       "      <td>age 21-35</td>\n",
       "    </tr>\n",
       "    <tr>\n",
       "      <th>2</th>\n",
       "      <td>1</td>\n",
       "      <td>45</td>\n",
       "      <td>3</td>\n",
       "      <td>1525.70</td>\n",
       "      <td>West</td>\n",
       "      <td>age 36-55</td>\n",
       "    </tr>\n",
       "    <tr>\n",
       "      <th>3</th>\n",
       "      <td>1</td>\n",
       "      <td>46</td>\n",
       "      <td>3</td>\n",
       "      <td>715.25</td>\n",
       "      <td>East</td>\n",
       "      <td>age 36-55</td>\n",
       "    </tr>\n",
       "    <tr>\n",
       "      <th>4</th>\n",
       "      <td>1</td>\n",
       "      <td>33</td>\n",
       "      <td>4</td>\n",
       "      <td>1937.50</td>\n",
       "      <td>North</td>\n",
       "      <td>age 21-35</td>\n",
       "    </tr>\n",
       "  </tbody>\n",
       "</table>\n",
       "</div>"
      ],
      "text/plain": [
       "   in-store  age  items   amount region age_sections\n",
       "0         0   37      4   281.03  South    age 36-55\n",
       "1         0   35      2   219.51  South    age 21-35\n",
       "2         1   45      3  1525.70   West    age 36-55\n",
       "3         1   46      3   715.25   East    age 36-55\n",
       "4         1   33      4  1937.50  North    age 21-35"
      ]
     },
     "execution_count": 44,
     "metadata": {},
     "output_type": "execute_result"
    }
   ],
   "source": [
    "data['age_sections'] = pd.cut(data['age'], bins=[0,21,35,55,75,100], labels=['under 21','age 21-35','age 36-55','age 56-75','over 75'])\n",
    "data.head()"
   ]
  },
  {
   "cell_type": "code",
   "execution_count": 45,
   "id": "650b2923-d59a-4b3b-9c5e-5a058188f16f",
   "metadata": {},
   "outputs": [
    {
     "data": {
      "text/html": [
       "<style  type=\"text/css\" >\n",
       "</style><table id=\"T_97ee7_\" ><thead>    <tr>        <th class=\"index_name level0\" >in-store</th>        <th class=\"col_heading level0 col0\" >0</th>        <th class=\"col_heading level0 col1\" >1</th>    </tr>    <tr>        <th class=\"index_name level0\" >age_sections</th>        <th class=\"blank\" ></th>        <th class=\"blank\" ></th>    </tr></thead><tbody>\n",
       "                <tr>\n",
       "                        <th id=\"T_97ee7_level0_row0\" class=\"row_heading level0 row0\" >under 21</th>\n",
       "                        <td id=\"T_97ee7_row0_col0\" class=\"data row0 col0\" >$2,364,162</td>\n",
       "                        <td id=\"T_97ee7_row0_col1\" class=\"data row0 col1\" >$1,414,612</td>\n",
       "            </tr>\n",
       "            <tr>\n",
       "                        <th id=\"T_97ee7_level0_row1\" class=\"row_heading level0 row1\" >age 21-35</th>\n",
       "                        <td id=\"T_97ee7_row1_col0\" class=\"data row1 col0\" >$10,374,726</td>\n",
       "                        <td id=\"T_97ee7_row1_col1\" class=\"data row1 col1\" >$10,382,436</td>\n",
       "            </tr>\n",
       "            <tr>\n",
       "                        <th id=\"T_97ee7_level0_row2\" class=\"row_heading level0 row2\" >age 36-55</th>\n",
       "                        <td id=\"T_97ee7_row2_col0\" class=\"data row2 col0\" >$15,379,563</td>\n",
       "                        <td id=\"T_97ee7_row2_col1\" class=\"data row2 col1\" >$15,368,849</td>\n",
       "            </tr>\n",
       "            <tr>\n",
       "                        <th id=\"T_97ee7_level0_row3\" class=\"row_heading level0 row3\" >age 56-75</th>\n",
       "                        <td id=\"T_97ee7_row3_col0\" class=\"data row3 col0\" >$6,911,880</td>\n",
       "                        <td id=\"T_97ee7_row3_col1\" class=\"data row3 col1\" >$3,790,619</td>\n",
       "            </tr>\n",
       "            <tr>\n",
       "                        <th id=\"T_97ee7_level0_row4\" class=\"row_heading level0 row4\" >over 75</th>\n",
       "                        <td id=\"T_97ee7_row4_col0\" class=\"data row4 col0\" >$861,658</td>\n",
       "                        <td id=\"T_97ee7_row4_col1\" class=\"data row4 col1\" >$0</td>\n",
       "            </tr>\n",
       "    </tbody></table>"
      ],
      "text/plain": [
       "<pandas.io.formats.style.Styler at 0x29a13d74370>"
      ]
     },
     "execution_count": 45,
     "metadata": {},
     "output_type": "execute_result"
    }
   ],
   "source": [
    "pivot_age_groups = pd.pivot_table(data,index='age_sections',columns='in-store',values='amount',aggfunc='sum',fill_value=0, margins=False)\n",
    "pivot_age_groups.style.format('${0:,.0f}')"
   ]
  },
  {
   "cell_type": "code",
   "execution_count": 46,
   "id": "3f18b796-f5fd-4201-b023-b79ad96c6b25",
   "metadata": {},
   "outputs": [
    {
     "data": {
      "image/png": "[encoded data removed]",
      "text/plain": [
       "<Figure size 1152x648 with 1 Axes>"
      ]
     },
     "metadata": {
      "needs_background": "light"
     },
     "output_type": "display_data"
    }
   ],
   "source": [
    "pivot_age_groups.plot.bar(figsize=(16, 9), title='Mean amount spend by items per age group', cmap=\"viridis\").yaxis.set_major_formatter('${x:,.0f}')"
   ]
  },
  {
   "cell_type": "markdown",
   "id": "76edab42-ed49-4b4b-8c53-c7f399240de4",
   "metadata": {},
   "source": [
    "At the end, I decided to see the relation between the age of the customers and the amount of money spend. The most frequent customens were in the age range between 36-55 years old and they also spent the most."
   ]
  },
  {
   "cell_type": "markdown",
   "id": "10dc6787-9118-4b48-bf8b-5cbab5c60654",
   "metadata": {},
   "source": [
    "### Conclusions"
   ]
  },
  {
   "cell_type": "markdown",
   "id": "2423a43a-1465-481f-b5be-e70fe804f998",
   "metadata": {},
   "source": [
    "- The most transactions was done in the West and the least - in the North.\n",
    "- On average the customers bought 4 items, transactions with 1 or 8 items were rare.\n",
    "- The number of transaction per region and the one that shows money spent by regions are not consistant.\n",
    "- **The most money was spent in the West, ahe least - in the South**\n",
    "- **The transactions were the most evenly distributed in terms of the amount of money spent in the West. In the North and in the East the lower value transactions have prevailed, but there have also been some where a larger amount has been spent. In the South lower value transactions have dominated.**\n",
    "- **The number of items bought did not have any connection with the amount of money spend by the customer.**\n",
    "- In the North, there was none transactions done online. On the contrary, in the South, there was no transactions done in-store. Both in the East and in the West online transactions were the dominant ones.\n",
    "- Most elder people bought any items in the South, the youngest people were usually from the West.\n",
    "- Younger people decided to make more transactions in-store, whereas the elder ones prefered online option.\n",
    "- The most frequent customens were in the age range between 36-55 years old and they also spent the most."
   ]
  }
 ],
 "metadata": {
  "kernelspec": {
   "display_name": "Python 3",
   "language": "python",
   "name": "python3"
  },
  "language_info": {
   "codemirror_mode": {
    "name": "ipython",
    "version": 3
   },
   "file_extension": ".py",
   "mimetype": "text/x-python",
   "name": "python",
   "nbconvert_exporter": "python",
   "pygments_lexer": "ipython3",
   "version": "3.9.5"
  },
  "toc-autonumbering": false
 },
 "nbformat": 4,
 "nbformat_minor": 5
}
